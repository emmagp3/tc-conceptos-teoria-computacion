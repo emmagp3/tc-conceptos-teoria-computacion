{
  "nbformat": 4,
  "nbformat_minor": 0,
  "metadata": {
    "colab": {
      "provenance": []
    },
    "kernelspec": {
      "name": "python3",
      "display_name": "Python 3"
    },
    "language_info": {
      "name": "python"
    }
  },
  "cells": [
    {
      "cell_type": "markdown",
      "source": [
        "<h1><center>Instituto Politécnico Nacional</center><h1>\n",
        "<h2><center>Escuela Superior de Cómputo</center></h2>\n",
        "<h2><center>Práctica 1</center></h2>\n",
        "<h3><center> Materia: Teoría de la computación</center></h3>\n",
        "\n",
        "**Integrantes:**\n",
        "\n",
        "- Ortega Prado Mauricio\n",
        "- Valentin Ramos Emmanuel Guadalupe"
      ],
      "metadata": {
        "id": "agX67a4JyDWm"
      }
    },
    {
      "cell_type": "markdown",
      "source": [
        "#### Punto 1\n",
        "\n",
        "- Leer el alfabeto $\\Sigma_{1}$ que servirá como base para resolver esta práctica. \n",
        "El alfabeto debe tener al menos tres símbolos. Los símbolos deben \n",
        "poder ser ingresados de dos maneras posibles: \n",
        "\n",
        "  - De forma individual (de uno en uno, o de dos en dos, dependiendo de la longitud de cada símbolo), por ejemplo: a, b, c, d, e, f; o bien: a1, b4, c5. \n",
        "  - Por rango, ingresando el primer símbolo del alfabeto a definir y a continuación el último (por ejemplo: a-z, m-x, F-Q, 0-9, 5-9, etc.)."
      ],
      "metadata": {
        "id": "gR5agc_FZWUZ"
      }
    },
    {
      "cell_type": "code",
      "source": [
        "print('El alfabeto puede ingresar de las siguientes maneras: a-z (rango) o a, b, c, d, ..., z (elementos separados por comas)')\n",
        "alfabeto = set()\n",
        "rango = input('Ingresa el alfabeto: ')\n",
        "rango = rango.replace(\" \", \"\")\n",
        "\n",
        "if rango.find('-') != -1:\n",
        "  inicio = ord(rango[0])\n",
        "  fin = ord(rango[-1])\n",
        "\n",
        "  for x in range(inicio, fin + 1):\n",
        "    alfabeto.add(chr(x))\n",
        "  print(alfabeto)\n",
        "elif rango.find(',') != -1 or len(rango) == 1:\n",
        "  alfabeto = set(rango.split(','))\n",
        "  print(alfabeto)\n",
        "else:\n",
        "  print('El alfabeto ha sido ingresado de manera incorrecta.') \n"
      ],
      "metadata": {
        "colab": {
          "base_uri": "https://localhost:8080/"
        },
        "id": "CeIHULtJZUdy",
        "outputId": "87fa1f85-6dd4-4d48-e6d6-4be1217afbb4"
      },
      "execution_count": null,
      "outputs": [
        {
          "output_type": "stream",
          "name": "stdout",
          "text": [
            "El alfabeto puede ingresar de las siguientes maneras: a-z (rango) o a, b, c, d, ..., z (elementos separados por comas)\n",
            "Ingresa el alfabeto: 0,1\n",
            "{'1', '0'}\n"
          ]
        }
      ]
    },
    {
      "cell_type": "markdown",
      "source": [
        "#### Punto 2\n",
        "\n",
        "-  Leer dos cadenas: $\\omega_{2}$ y $\\omega_{2}$ ambas elementos del alfabeto $\\Sigma_{2}$. Las cadenas deben ser validadas por el programa: en caso de error en el ingreso de las cadenas, se debe hacer la indicación al usuario para que vuelva a ingresar la cadena de forma correcta. Una cadena es inválida si contiene algún símbolo que no pertenezca al alfabeto."
      ],
      "metadata": {
        "id": "MjC-GmMLK-9S"
      }
    },
    {
      "cell_type": "code",
      "source": [
        "def validar_cadena(alfabeto, cadena = ''):\n",
        "  return set(cadena).issubset(alfabeto)\n",
        "\n",
        "def leer_cadena():\n",
        "  es_valida = True\n",
        "  while es_valida:\n",
        "    cadena = input('Ingresa una cadena con los elementos del alfabeto: ')\n",
        "    es_valida = not validar_cadena(alfabeto, cadena)\n",
        "    print('Cadena válida' if not es_valida else 'Cadena no válida')\n",
        "  return cadena\n",
        "\n",
        "print('Cadena 1:')\n",
        "w1 = leer_cadena()\n",
        "\n",
        "print('Cadena 2:')\n",
        "w2 = leer_cadena()\n",
        "\n",
        "print('Cadenas válidas ingresadas: ', w1, w2)"
      ],
      "metadata": {
        "colab": {
          "base_uri": "https://localhost:8080/"
        },
        "id": "t2xuUKJdeV79",
        "outputId": "cb8cb182-ca95-404b-bf93-2aa6438f9bc2"
      },
      "execution_count": null,
      "outputs": [
        {
          "output_type": "stream",
          "name": "stdout",
          "text": [
            "Cadena 1:\n",
            "Ingresa una cadena con los elementos del alfabeto: 01001\n",
            "Cadena válida\n",
            "Cadena 2:\n"
          ]
        }
      ]
    },
    {
      "cell_type": "markdown",
      "source": [
        "#### Punto 3\n",
        "\n",
        "- Indicar si $\\omega_{1}$ es un prefijo o sufijo (propio o no propio), o subcadena, o \n",
        "subsecuencia, o cualquier combinación anterior, de $\\omega_{2}$."
      ],
      "metadata": {
        "id": "Nf-Zy-fkWOA1"
      }
    },
    {
      "cell_type": "code",
      "source": [
        "def es_prefijo(w1, w2):\n",
        "  return w2.startswith(w1)\n",
        "\n",
        "def es_sufijo(w1, w2):\n",
        "  return w2.endswith(w1)\n",
        "\n",
        "def es_prefijo_propio(w1, w2):\n",
        "  return False if len(w1) == 0 else es_prefijo(w1, w2)\n",
        "\n",
        "def es_sufijo_propio(w1, w2):\n",
        "  return False if len(w1) == 0 else es_sufijo(w1, w2)\n",
        "\n",
        "def es_subcadena(w1, w2):\n",
        "  try:\n",
        "    return True if w2.index(w1) else False\n",
        "  except:\n",
        "    return False\n",
        "                 \n",
        "def es_subsecuencia(w1, w2):\n",
        "  return set(w1).issubset(set(w2))\n",
        "\n",
        "print('\"', w1, '\" es prefijo de', w2) if es_prefijo(w1, w2) else print('\"',w1, '\" no es prefijo de', w2)\n",
        "print('\"', w1, '\" es sufijo de', w2) if es_sufijo(w1, w2) else print('\"',w1, '\" no es sufijo de', w2)\n",
        "\n",
        "print('\"', w1, '\" es prefijo propio de', w2) if es_prefijo_propio(w1, w2) else print('\"',w1, '\" no es prefijo propio de', w2)\n",
        "print('\"', w1, '\" es sufijo propio de', w2) if es_sufijo_propio(w1, w2) else print('\"',w1, '\" no es sufijo propio de', w2)\n",
        "\n",
        "print('\"', w1, '\" es subcadena de', w2) if es_subcadena(w1, w2) else print('\"',w1, '\" no es subcadena de', w2)\n",
        "print('\"', w1, '\" es subsecuencia de', w2) if es_subsecuencia(w1, w2) else print('\"',w1, '\" no es subsecuencia de', w2)\n"
      ],
      "metadata": {
        "id": "ZTAlHhAjWP8S",
        "colab": {
          "base_uri": "https://localhost:8080/"
        },
        "outputId": "2909f427-6c8e-4d24-9550-35ff0b5b277a"
      },
      "execution_count": null,
      "outputs": [
        {
          "output_type": "stream",
          "name": "stdout",
          "text": [
            "\" roca \" no es prefijo de ferrocarril\n",
            "\" roca \" no es sufijo de ferrocarril\n",
            "\" roca \" no es prefijo propio de ferrocarril\n",
            "\" roca \" no es sufijo propio de ferrocarril\n",
            "\" roca \" es subcadena de ferrocarril\n",
            "\" roca \" es subsecuencia de ferrocarril\n"
          ]
        }
      ]
    },
    {
      "cell_type": "markdown",
      "source": [
        "### Punto 4\n",
        "\n",
        "Con base en el alfabeto $\\Sigma_1$ generar los lenguajes $L_1$ y $L_2$ de forma \n",
        "aleatoria. El número de elementos o palabras ($np$) a ser generados así \n",
        "como su longitud ($l$), serán valores de entrada que ingresará el usuario. \n",
        "Desplegar en pantalla los lenguajes generados $L_1$ y $L_2$"
      ],
      "metadata": {
        "id": "m3GSH34jyACR"
      }
    },
    {
      "cell_type": "code",
      "source": [
        "import random\n",
        "\n",
        "def generar_palabra(alfabeto_a_lista):\n",
        "  random.shuffle(alfabeto_a_lista)\n",
        "  return \"\".join(alfabeto_a_lista[0:l])\n",
        "\n",
        "def crear_lenguaje(np, l):\n",
        "  lenguaje = set()\n",
        "  alfabeto_a_lista = list(alfabeto)\n",
        "  for i in range(0, np):\n",
        "    nvo_palabra = generar_palabra(alfabeto_a_lista)\n",
        "    lenguaje.add(\n",
        "        nvo_palabra if not nvo_palabra in lenguaje else generar_palabra(alfabeto_a_lista)\n",
        "    )\n",
        "  return lenguaje\n",
        "\n",
        "np = int(input('Ingresa el número de elementos o palabras a ser generados: '))\n",
        "l = int(input('Ingresa la longitud de los elementos o palabras: '))\n",
        "\n",
        "l1 = crear_lenguaje(np, l)\n",
        "l2 = crear_lenguaje(np, l)\n",
        "\n",
        "print('L1:', l1)\n",
        "print('L2:', l2)"
      ],
      "metadata": {
        "colab": {
          "base_uri": "https://localhost:8080/"
        },
        "id": "YGYHFSCCWNJM",
        "outputId": "ac69db19-90c9-4482-8069-54c17121c8c0"
      },
      "execution_count": null,
      "outputs": [
        {
          "output_type": "stream",
          "name": "stdout",
          "text": [
            "Ingresa el número de elementos o palabras a ser generados: 4\n",
            "Ingresa la longitud de los elementos o palabras: 5\n",
            "L1: {'djnbl', 'bumht', 'oykng', 'zygpq'}\n",
            "L2: {'sncih', 'mvdrh', 'opdky', 'xqmey'}\n"
          ]
        }
      ]
    },
    {
      "cell_type": "markdown",
      "source": [
        "### Punto 5\n",
        "Generar  el  lenguaje $L_D$ resultado  de  la diferencia  de  los  lenguajes con la operación: $L_1$- $L_2$. Desplegar en pantalla $L_D$.\n"
      ],
      "metadata": {
        "id": "PBib6nkERf9L"
      }
    },
    {
      "cell_type": "code",
      "source": [
        "def diferencia(l1, l2):\n",
        "  return l1 - l2\n",
        "\n",
        "ld = diferencia(l1, l2)\n",
        "print(\"LD = L1 - L2: \", ld)\n",
        "\n"
      ],
      "metadata": {
        "colab": {
          "base_uri": "https://localhost:8080/"
        },
        "id": "3Sax7Ap9V8G6",
        "outputId": "20e75d4f-56e0-4203-9b46-323b5614739e"
      },
      "execution_count": null,
      "outputs": [
        {
          "output_type": "stream",
          "name": "stdout",
          "text": [
            "LD = L1 - L2:  {'oykng', 'bumht', 'djnbl', 'zygpq'}\n"
          ]
        }
      ]
    },
    {
      "cell_type": "markdown",
      "source": [
        "### Punto 6\n",
        "Obtener  la  potencia  del  alfabeto $\\Sigma_1$.  El  valor  de  la  potencia  es  un número  entero  (rango:  $-5$  a  $5$)  que  debe  ser  leído  desde  el  teclado. Desplegar el resultado de la potencia del alfabeto en pantalla."
      ],
      "metadata": {
        "id": "08kOs3LPaRyR"
      }
    },
    {
      "cell_type": "code",
      "source": [
        "def potencia(alfabeto, n):\n",
        "  lista_potencia = []\n",
        "  alfalista = list(alfabeto)\n",
        "  alfalista.sort()\n",
        "\n",
        "  if n == 0:\n",
        "    return set()\n",
        "  elif n < 0:\n",
        "    alfalista = invertir_lista(alfalista)\n",
        "    n = -n\n",
        "\n",
        "  lista_potencia = alfalista\n",
        "  for i in range(1, n):\n",
        "    lista_potencia = m_potencia(lista_potencia, alfalista)\n",
        "    \n",
        "  print(lista_potencia)\n",
        "  return set(lista_potencia)\n",
        "  \n",
        "def m_potencia(alfalista1, alfalista2):\n",
        "  return ([e1 + e2 for e1 in alfalista1 for e2 in alfalista2])\n",
        "\n",
        "def leer_potencia():\n",
        "  n_aux = int(input(\"Ingresa la potencia del alfabeto: \"))\n",
        "  while (not (-5 <= n_aux <= 5)):\n",
        "    n_aux = int(input(\"Ingresa la potencia del alfabeto: \"))\n",
        "  return n_aux\n",
        "\n",
        "def invertir_lista(lista):\n",
        "  lista_aux = []\n",
        "  for i in lista:\n",
        "    lista_aux.append(''.join(reversed(i)))\n",
        "  return lista_aux\n",
        "\n",
        "\n",
        "n = leer_potencia()\n",
        "print(potencia(alfabeto, n))\n",
        "    \n"
      ],
      "metadata": {
        "colab": {
          "base_uri": "https://localhost:8080/"
        },
        "id": "s5U1B4usU411",
        "outputId": "d150b1dc-accd-4f0e-daa4-5fd6f629a866"
      },
      "execution_count": null,
      "outputs": [
        {
          "output_type": "stream",
          "name": "stdout",
          "text": [
            "Ingresa la potencia del alfabeto: 4\n",
            "['aaaa', 'aaab', 'aaac', 'aaba', 'aabb', 'aabc', 'aaca', 'aacb', 'aacc', 'abaa', 'abab', 'abac', 'abba', 'abbb', 'abbc', 'abca', 'abcb', 'abcc', 'acaa', 'acab', 'acac', 'acba', 'acbb', 'acbc', 'acca', 'accb', 'accc', 'baaa', 'baab', 'baac', 'baba', 'babb', 'babc', 'baca', 'bacb', 'bacc', 'bbaa', 'bbab', 'bbac', 'bbba', 'bbbb', 'bbbc', 'bbca', 'bbcb', 'bbcc', 'bcaa', 'bcab', 'bcac', 'bcba', 'bcbb', 'bcbc', 'bcca', 'bccb', 'bccc', 'caaa', 'caab', 'caac', 'caba', 'cabb', 'cabc', 'caca', 'cacb', 'cacc', 'cbaa', 'cbab', 'cbac', 'cbba', 'cbbb', 'cbbc', 'cbca', 'cbcb', 'cbcc', 'ccaa', 'ccab', 'ccac', 'ccba', 'ccbb', 'ccbc', 'ccca', 'cccb', 'cccc']\n",
            "{'ccbc', 'ccba', 'aacb', 'caac', 'acac', 'bbac', 'ccab', 'bbbb', 'aaac', 'babb', 'acaa', 'cabc', 'caaa', 'babc', 'bbba', 'acbb', 'bbcb', 'accc', 'baac', 'cccc', 'aabc', 'abbb', 'acba', 'bcab', 'bbca', 'aaab', 'cbac', 'cbab', 'bccc', 'bcbc', 'cbba', 'ccca', 'abcc', 'cacb', 'bcca', 'cbbc', 'abca', 'aaaa', 'cccb', 'acbc', 'cbcc', 'bcbb', 'cbcb', 'baca', 'bcaa', 'bccb', 'acab', 'cacc', 'bbab', 'cbca', 'aacc', 'bbbc', 'aaca', 'cbbb', 'ccac', 'accb', 'aaba', 'baab', 'abac', 'bcac', 'cbaa', 'abab', 'caca', 'bbcc', 'abba', 'aabb', 'ccaa', 'cabb', 'bacc', 'bcba', 'abaa', 'acca', 'baaa', 'caba', 'abcb', 'bbaa', 'bacb', 'caab', 'abbc', 'baba', 'ccbb'}\n"
          ]
        }
      ]
    },
    {
      "cell_type": "markdown",
      "source": [
        "### Punto 7\n",
        "\n",
        "Mediante la utilización de expresiones regulares y/o definiciones \n",
        "regulares, implementar uno de los siguientes incisos: \n",
        "\n",
        "**A**. Todas las cadenas de letras en minúsculas (a-z) que contengan las cinco vocales en orden. Las vocales pueden estar repetidas (siempre que mantengan el orden), las secuencias de las vocales también pueden repetirse. La secuencia completa de vocales también puede repetirse.\n",
        "- Ejemplos de palabras aceptadas: rtaeioujutf, arteheejyibgfohgfdujhfd, aaaejhjhihgghgough, hknalleioomuwraamqekiodsu, aheklinmounmajkertebhiohjju, etc.\n",
        "- Ejemplos de palabras no aceptadas: kayteemnoyug, ejuyaklengtivdfsojhgu,agheehklinmoythuvbazeyiawqeihjou"
      ],
      "metadata": {
        "id": "kztravnBSG-F"
      }
    },
    {
      "cell_type": "code",
      "source": [
        "import re\n",
        "\n",
        "regex = re.compile('[^eiou]*a+[^aiou]*e+[^aeou]*i+[^aeiu]*o+[^aeio]*u+[^aeiou]*')\n",
        "cadena = input('Ingresa la cadena a validar: ')\n",
        "\n",
        "es_valida = re.fullmatch(regex, cadena)\n",
        "if es_valida:\n",
        "  print('Cadena válida')\n",
        "else:\n",
        "  print('Cadena inválida')"
      ],
      "metadata": {
        "id": "S0PTC0ZfSKo-",
        "colab": {
          "base_uri": "https://localhost:8080/"
        },
        "outputId": "9518823e-00e8-4235-f8a9-2fb6558b99da"
      },
      "execution_count": null,
      "outputs": [
        {
          "output_type": "stream",
          "name": "stdout",
          "text": [
            "Ingresa la cadena a validar: agheehklinmoythuvbazeyiawqeihjou\n",
            "Cadena inválida\n"
          ]
        }
      ]
    }
  ]
}